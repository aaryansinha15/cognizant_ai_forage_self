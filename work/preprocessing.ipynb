{
 "cells": [
  {
   "cell_type": "markdown",
   "metadata": {},
   "source": [
    "# Task 1: Exploratory Data Analysis\n",
    "    -> Analysis of the three datasets\n",
    "        -> sales.csv\n",
    "        -> sensor_stock_levels.csv\n",
    "        -> sensor_storage_temperature.csv"
   ]
  },
  {
   "cell_type": "code",
   "execution_count": 27,
   "metadata": {},
   "outputs": [],
   "source": [
    "# libraries\n",
    "import numpy as np\n",
    "import pandas as pd\n",
    "import matplotlib.pyplot as plt\n",
    "import seaborn as sns\n"
   ]
  },
  {
   "cell_type": "code",
   "execution_count": 28,
   "metadata": {},
   "outputs": [],
   "source": [
    "sales_df = pd.read_csv('C:\\\\Users\\\\KIIT\\\\Documents\\\\GitHub\\\\cognizant_ai_forage_self\\\\data\\\\sales.csv')\n",
    "\n",
    "sensor_stock_level_df = pd.read_csv('C:\\\\Users\\\\KIIT\\\\Documents\\\\GitHub\\\\cognizant_ai_forage_self\\\\data\\\\sensor_stock_levels.csv')\n",
    "\n",
    "sensor_storage_temperature_df = pd.read_csv('C:\\\\Users\\\\KIIT\\\\Documents\\\\GitHub\\\\cognizant_ai_forage_self\\\\data\\\\sensor_storage_temperature.csv')\n",
    "                            "
   ]
  },
  {
   "cell_type": "markdown",
   "metadata": {},
   "source": [
    "# Sales Data View"
   ]
  },
  {
   "cell_type": "code",
   "execution_count": 29,
   "metadata": {},
   "outputs": [
    {
     "data": {
      "text/html": [
       "<div>\n",
       "<style scoped>\n",
       "    .dataframe tbody tr th:only-of-type {\n",
       "        vertical-align: middle;\n",
       "    }\n",
       "\n",
       "    .dataframe tbody tr th {\n",
       "        vertical-align: top;\n",
       "    }\n",
       "\n",
       "    .dataframe thead th {\n",
       "        text-align: right;\n",
       "    }\n",
       "</style>\n",
       "<table border=\"1\" class=\"dataframe\">\n",
       "  <thead>\n",
       "    <tr style=\"text-align: right;\">\n",
       "      <th></th>\n",
       "      <th>Unnamed: 0</th>\n",
       "      <th>transaction_id</th>\n",
       "      <th>timestamp</th>\n",
       "      <th>product_id</th>\n",
       "      <th>category</th>\n",
       "      <th>customer_type</th>\n",
       "      <th>unit_price</th>\n",
       "      <th>quantity</th>\n",
       "      <th>total</th>\n",
       "      <th>payment_type</th>\n",
       "    </tr>\n",
       "  </thead>\n",
       "  <tbody>\n",
       "    <tr>\n",
       "      <th>0</th>\n",
       "      <td>0</td>\n",
       "      <td>a1c82654-c52c-45b3-8ce8-4c2a1efe63ed</td>\n",
       "      <td>2022-03-02 09:51:38</td>\n",
       "      <td>3bc6c1ea-0198-46de-9ffd-514ae3338713</td>\n",
       "      <td>fruit</td>\n",
       "      <td>gold</td>\n",
       "      <td>3.99</td>\n",
       "      <td>2</td>\n",
       "      <td>7.98</td>\n",
       "      <td>e-wallet</td>\n",
       "    </tr>\n",
       "    <tr>\n",
       "      <th>1</th>\n",
       "      <td>1</td>\n",
       "      <td>931ad550-09e8-4da6-beaa-8c9d17be9c60</td>\n",
       "      <td>2022-03-06 10:33:59</td>\n",
       "      <td>ad81b46c-bf38-41cf-9b54-5fe7f5eba93e</td>\n",
       "      <td>fruit</td>\n",
       "      <td>standard</td>\n",
       "      <td>3.99</td>\n",
       "      <td>1</td>\n",
       "      <td>3.99</td>\n",
       "      <td>e-wallet</td>\n",
       "    </tr>\n",
       "    <tr>\n",
       "      <th>2</th>\n",
       "      <td>2</td>\n",
       "      <td>ae133534-6f61-4cd6-b6b8-d1c1d8d90aea</td>\n",
       "      <td>2022-03-04 17:20:21</td>\n",
       "      <td>7c55cbd4-f306-4c04-a030-628cbe7867c1</td>\n",
       "      <td>fruit</td>\n",
       "      <td>premium</td>\n",
       "      <td>0.19</td>\n",
       "      <td>2</td>\n",
       "      <td>0.38</td>\n",
       "      <td>e-wallet</td>\n",
       "    </tr>\n",
       "    <tr>\n",
       "      <th>3</th>\n",
       "      <td>3</td>\n",
       "      <td>157cebd9-aaf0-475d-8a11-7c8e0f5b76e4</td>\n",
       "      <td>2022-03-02 17:23:58</td>\n",
       "      <td>80da8348-1707-403f-8be7-9e6deeccc883</td>\n",
       "      <td>fruit</td>\n",
       "      <td>gold</td>\n",
       "      <td>0.19</td>\n",
       "      <td>4</td>\n",
       "      <td>0.76</td>\n",
       "      <td>e-wallet</td>\n",
       "    </tr>\n",
       "    <tr>\n",
       "      <th>4</th>\n",
       "      <td>4</td>\n",
       "      <td>a81a6cd3-5e0c-44a2-826c-aea43e46c514</td>\n",
       "      <td>2022-03-05 14:32:43</td>\n",
       "      <td>7f5e86e6-f06f-45f6-bf44-27b095c9ad1d</td>\n",
       "      <td>fruit</td>\n",
       "      <td>basic</td>\n",
       "      <td>4.49</td>\n",
       "      <td>2</td>\n",
       "      <td>8.98</td>\n",
       "      <td>debit card</td>\n",
       "    </tr>\n",
       "    <tr>\n",
       "      <th>...</th>\n",
       "      <td>...</td>\n",
       "      <td>...</td>\n",
       "      <td>...</td>\n",
       "      <td>...</td>\n",
       "      <td>...</td>\n",
       "      <td>...</td>\n",
       "      <td>...</td>\n",
       "      <td>...</td>\n",
       "      <td>...</td>\n",
       "      <td>...</td>\n",
       "    </tr>\n",
       "    <tr>\n",
       "      <th>7824</th>\n",
       "      <td>7824</td>\n",
       "      <td>6c19b9fc-f86d-4526-9dfe-d8027a4d13ee</td>\n",
       "      <td>2022-03-03 18:22:09</td>\n",
       "      <td>bc6187a9-d508-482b-9ca6-590d1cc7524f</td>\n",
       "      <td>cleaning products</td>\n",
       "      <td>basic</td>\n",
       "      <td>14.19</td>\n",
       "      <td>2</td>\n",
       "      <td>28.38</td>\n",
       "      <td>e-wallet</td>\n",
       "    </tr>\n",
       "    <tr>\n",
       "      <th>7825</th>\n",
       "      <td>7825</td>\n",
       "      <td>1c69824b-e399-4b79-a5e7-04a3a7db0681</td>\n",
       "      <td>2022-03-04 19:14:46</td>\n",
       "      <td>707e4237-191c-4cc9-85af-383a6c1cb2ab</td>\n",
       "      <td>cleaning products</td>\n",
       "      <td>standard</td>\n",
       "      <td>16.99</td>\n",
       "      <td>1</td>\n",
       "      <td>16.99</td>\n",
       "      <td>credit card</td>\n",
       "    </tr>\n",
       "    <tr>\n",
       "      <th>7826</th>\n",
       "      <td>7826</td>\n",
       "      <td>79aee7d6-1405-4345-9a15-92541e9e1e74</td>\n",
       "      <td>2022-03-03 14:00:09</td>\n",
       "      <td>a9325c1a-2715-41df-b7f4-3078fa5ecd97</td>\n",
       "      <td>cleaning products</td>\n",
       "      <td>basic</td>\n",
       "      <td>14.19</td>\n",
       "      <td>2</td>\n",
       "      <td>28.38</td>\n",
       "      <td>credit card</td>\n",
       "    </tr>\n",
       "    <tr>\n",
       "      <th>7827</th>\n",
       "      <td>7827</td>\n",
       "      <td>e5cc4f88-e5b7-4ad5-bc1b-12a828a14f55</td>\n",
       "      <td>2022-03-04 15:11:38</td>\n",
       "      <td>707e4237-191c-4cc9-85af-383a6c1cb2ab</td>\n",
       "      <td>cleaning products</td>\n",
       "      <td>basic</td>\n",
       "      <td>16.99</td>\n",
       "      <td>4</td>\n",
       "      <td>67.96</td>\n",
       "      <td>cash</td>\n",
       "    </tr>\n",
       "    <tr>\n",
       "      <th>7828</th>\n",
       "      <td>7828</td>\n",
       "      <td>afd70b4f-ee21-402d-8d8f-0d9e13c2bea6</td>\n",
       "      <td>2022-03-06 13:50:36</td>\n",
       "      <td>d6ccd088-11be-4c25-aa1f-ea87c01a04db</td>\n",
       "      <td>cleaning products</td>\n",
       "      <td>non-member</td>\n",
       "      <td>14.99</td>\n",
       "      <td>4</td>\n",
       "      <td>59.96</td>\n",
       "      <td>debit card</td>\n",
       "    </tr>\n",
       "  </tbody>\n",
       "</table>\n",
       "<p>7829 rows × 10 columns</p>\n",
       "</div>"
      ],
      "text/plain": [
       "      Unnamed: 0                        transaction_id            timestamp  \\\n",
       "0              0  a1c82654-c52c-45b3-8ce8-4c2a1efe63ed  2022-03-02 09:51:38   \n",
       "1              1  931ad550-09e8-4da6-beaa-8c9d17be9c60  2022-03-06 10:33:59   \n",
       "2              2  ae133534-6f61-4cd6-b6b8-d1c1d8d90aea  2022-03-04 17:20:21   \n",
       "3              3  157cebd9-aaf0-475d-8a11-7c8e0f5b76e4  2022-03-02 17:23:58   \n",
       "4              4  a81a6cd3-5e0c-44a2-826c-aea43e46c514  2022-03-05 14:32:43   \n",
       "...          ...                                   ...                  ...   \n",
       "7824        7824  6c19b9fc-f86d-4526-9dfe-d8027a4d13ee  2022-03-03 18:22:09   \n",
       "7825        7825  1c69824b-e399-4b79-a5e7-04a3a7db0681  2022-03-04 19:14:46   \n",
       "7826        7826  79aee7d6-1405-4345-9a15-92541e9e1e74  2022-03-03 14:00:09   \n",
       "7827        7827  e5cc4f88-e5b7-4ad5-bc1b-12a828a14f55  2022-03-04 15:11:38   \n",
       "7828        7828  afd70b4f-ee21-402d-8d8f-0d9e13c2bea6  2022-03-06 13:50:36   \n",
       "\n",
       "                                product_id           category customer_type  \\\n",
       "0     3bc6c1ea-0198-46de-9ffd-514ae3338713              fruit          gold   \n",
       "1     ad81b46c-bf38-41cf-9b54-5fe7f5eba93e              fruit      standard   \n",
       "2     7c55cbd4-f306-4c04-a030-628cbe7867c1              fruit       premium   \n",
       "3     80da8348-1707-403f-8be7-9e6deeccc883              fruit          gold   \n",
       "4     7f5e86e6-f06f-45f6-bf44-27b095c9ad1d              fruit         basic   \n",
       "...                                    ...                ...           ...   \n",
       "7824  bc6187a9-d508-482b-9ca6-590d1cc7524f  cleaning products         basic   \n",
       "7825  707e4237-191c-4cc9-85af-383a6c1cb2ab  cleaning products      standard   \n",
       "7826  a9325c1a-2715-41df-b7f4-3078fa5ecd97  cleaning products         basic   \n",
       "7827  707e4237-191c-4cc9-85af-383a6c1cb2ab  cleaning products         basic   \n",
       "7828  d6ccd088-11be-4c25-aa1f-ea87c01a04db  cleaning products    non-member   \n",
       "\n",
       "      unit_price  quantity  total payment_type  \n",
       "0           3.99         2   7.98     e-wallet  \n",
       "1           3.99         1   3.99     e-wallet  \n",
       "2           0.19         2   0.38     e-wallet  \n",
       "3           0.19         4   0.76     e-wallet  \n",
       "4           4.49         2   8.98   debit card  \n",
       "...          ...       ...    ...          ...  \n",
       "7824       14.19         2  28.38     e-wallet  \n",
       "7825       16.99         1  16.99  credit card  \n",
       "7826       14.19         2  28.38  credit card  \n",
       "7827       16.99         4  67.96         cash  \n",
       "7828       14.99         4  59.96   debit card  \n",
       "\n",
       "[7829 rows x 10 columns]"
      ]
     },
     "execution_count": 29,
     "metadata": {},
     "output_type": "execute_result"
    }
   ],
   "source": [
    "sales_df"
   ]
  },
  {
   "cell_type": "markdown",
   "metadata": {},
   "source": [
    "# Sensor Stock Level Data View "
   ]
  },
  {
   "cell_type": "code",
   "execution_count": 30,
   "metadata": {},
   "outputs": [
    {
     "data": {
      "text/html": [
       "<div>\n",
       "<style scoped>\n",
       "    .dataframe tbody tr th:only-of-type {\n",
       "        vertical-align: middle;\n",
       "    }\n",
       "\n",
       "    .dataframe tbody tr th {\n",
       "        vertical-align: top;\n",
       "    }\n",
       "\n",
       "    .dataframe thead th {\n",
       "        text-align: right;\n",
       "    }\n",
       "</style>\n",
       "<table border=\"1\" class=\"dataframe\">\n",
       "  <thead>\n",
       "    <tr style=\"text-align: right;\">\n",
       "      <th></th>\n",
       "      <th>Unnamed: 0</th>\n",
       "      <th>id</th>\n",
       "      <th>timestamp</th>\n",
       "      <th>product_id</th>\n",
       "      <th>estimated_stock_pct</th>\n",
       "    </tr>\n",
       "  </thead>\n",
       "  <tbody>\n",
       "    <tr>\n",
       "      <th>0</th>\n",
       "      <td>0</td>\n",
       "      <td>4220e505-c247-478d-9831-6b9f87a4488a</td>\n",
       "      <td>2022-03-07 12:13:02</td>\n",
       "      <td>f658605e-75f3-4fed-a655-c0903f344427</td>\n",
       "      <td>0.75</td>\n",
       "    </tr>\n",
       "    <tr>\n",
       "      <th>1</th>\n",
       "      <td>1</td>\n",
       "      <td>f2612b26-fc82-49ea-8940-0751fdd4d9ef</td>\n",
       "      <td>2022-03-07 16:39:46</td>\n",
       "      <td>de06083a-f5c0-451d-b2f4-9ab88b52609d</td>\n",
       "      <td>0.48</td>\n",
       "    </tr>\n",
       "    <tr>\n",
       "      <th>2</th>\n",
       "      <td>2</td>\n",
       "      <td>989a287f-67e6-4478-aa49-c3a35dac0e2e</td>\n",
       "      <td>2022-03-01 18:17:43</td>\n",
       "      <td>ce8f3a04-d1a4-43b1-a7c2-fa1b8e7674c8</td>\n",
       "      <td>0.58</td>\n",
       "    </tr>\n",
       "    <tr>\n",
       "      <th>3</th>\n",
       "      <td>3</td>\n",
       "      <td>af8e5683-d247-46ac-9909-1a77bdebefb2</td>\n",
       "      <td>2022-03-02 14:29:09</td>\n",
       "      <td>c21e3ba9-92a3-4745-92c2-6faef73223f7</td>\n",
       "      <td>0.79</td>\n",
       "    </tr>\n",
       "    <tr>\n",
       "      <th>4</th>\n",
       "      <td>4</td>\n",
       "      <td>08a32247-3f44-4002-85fb-c198434dd4bb</td>\n",
       "      <td>2022-03-02 13:46:18</td>\n",
       "      <td>7f478817-aa5b-44e9-9059-8045228c9eb0</td>\n",
       "      <td>0.22</td>\n",
       "    </tr>\n",
       "    <tr>\n",
       "      <th>...</th>\n",
       "      <td>...</td>\n",
       "      <td>...</td>\n",
       "      <td>...</td>\n",
       "      <td>...</td>\n",
       "      <td>...</td>\n",
       "    </tr>\n",
       "    <tr>\n",
       "      <th>14995</th>\n",
       "      <td>14995</td>\n",
       "      <td>b9bf6788-09f3-490b-959b-dc5b55edb4b6</td>\n",
       "      <td>2022-03-04 10:52:50</td>\n",
       "      <td>e37658de-3649-4ddb-9c73-b868dd69d3fe</td>\n",
       "      <td>0.66</td>\n",
       "    </tr>\n",
       "    <tr>\n",
       "      <th>14996</th>\n",
       "      <td>14996</td>\n",
       "      <td>9ff1cc01-020f-491a-bafd-13552dccff44</td>\n",
       "      <td>2022-03-02 12:25:48</td>\n",
       "      <td>fbeb39cc-8cd0-4143-bdfb-77658a02dec9</td>\n",
       "      <td>0.99</td>\n",
       "    </tr>\n",
       "    <tr>\n",
       "      <th>14997</th>\n",
       "      <td>14997</td>\n",
       "      <td>4d8101de-e8a2-4af9-9764-7a3a22aa7084</td>\n",
       "      <td>2022-03-03 17:36:44</td>\n",
       "      <td>8e21dcec-d775-4969-8334-05a37a5fd189</td>\n",
       "      <td>0.72</td>\n",
       "    </tr>\n",
       "    <tr>\n",
       "      <th>14998</th>\n",
       "      <td>14998</td>\n",
       "      <td>5f2a7b1e-b3c4-4395-8425-c960e22f701d</td>\n",
       "      <td>2022-03-02 19:42:47</td>\n",
       "      <td>9708cf5b-aa69-4320-a013-9d234c40e63f</td>\n",
       "      <td>0.95</td>\n",
       "    </tr>\n",
       "    <tr>\n",
       "      <th>14999</th>\n",
       "      <td>14999</td>\n",
       "      <td>af6f4493-e49d-4dcb-951d-308e6cce267b</td>\n",
       "      <td>2022-03-06 17:18:27</td>\n",
       "      <td>3bc6c1ea-0198-46de-9ffd-514ae3338713</td>\n",
       "      <td>0.75</td>\n",
       "    </tr>\n",
       "  </tbody>\n",
       "</table>\n",
       "<p>15000 rows × 5 columns</p>\n",
       "</div>"
      ],
      "text/plain": [
       "       Unnamed: 0                                    id            timestamp  \\\n",
       "0               0  4220e505-c247-478d-9831-6b9f87a4488a  2022-03-07 12:13:02   \n",
       "1               1  f2612b26-fc82-49ea-8940-0751fdd4d9ef  2022-03-07 16:39:46   \n",
       "2               2  989a287f-67e6-4478-aa49-c3a35dac0e2e  2022-03-01 18:17:43   \n",
       "3               3  af8e5683-d247-46ac-9909-1a77bdebefb2  2022-03-02 14:29:09   \n",
       "4               4  08a32247-3f44-4002-85fb-c198434dd4bb  2022-03-02 13:46:18   \n",
       "...           ...                                   ...                  ...   \n",
       "14995       14995  b9bf6788-09f3-490b-959b-dc5b55edb4b6  2022-03-04 10:52:50   \n",
       "14996       14996  9ff1cc01-020f-491a-bafd-13552dccff44  2022-03-02 12:25:48   \n",
       "14997       14997  4d8101de-e8a2-4af9-9764-7a3a22aa7084  2022-03-03 17:36:44   \n",
       "14998       14998  5f2a7b1e-b3c4-4395-8425-c960e22f701d  2022-03-02 19:42:47   \n",
       "14999       14999  af6f4493-e49d-4dcb-951d-308e6cce267b  2022-03-06 17:18:27   \n",
       "\n",
       "                                 product_id  estimated_stock_pct  \n",
       "0      f658605e-75f3-4fed-a655-c0903f344427                 0.75  \n",
       "1      de06083a-f5c0-451d-b2f4-9ab88b52609d                 0.48  \n",
       "2      ce8f3a04-d1a4-43b1-a7c2-fa1b8e7674c8                 0.58  \n",
       "3      c21e3ba9-92a3-4745-92c2-6faef73223f7                 0.79  \n",
       "4      7f478817-aa5b-44e9-9059-8045228c9eb0                 0.22  \n",
       "...                                     ...                  ...  \n",
       "14995  e37658de-3649-4ddb-9c73-b868dd69d3fe                 0.66  \n",
       "14996  fbeb39cc-8cd0-4143-bdfb-77658a02dec9                 0.99  \n",
       "14997  8e21dcec-d775-4969-8334-05a37a5fd189                 0.72  \n",
       "14998  9708cf5b-aa69-4320-a013-9d234c40e63f                 0.95  \n",
       "14999  3bc6c1ea-0198-46de-9ffd-514ae3338713                 0.75  \n",
       "\n",
       "[15000 rows x 5 columns]"
      ]
     },
     "execution_count": 30,
     "metadata": {},
     "output_type": "execute_result"
    }
   ],
   "source": [
    "sensor_stock_level_df"
   ]
  },
  {
   "cell_type": "markdown",
   "metadata": {},
   "source": [
    "# Sensor Storage Temperature Data View "
   ]
  },
  {
   "cell_type": "code",
   "execution_count": 31,
   "metadata": {},
   "outputs": [
    {
     "data": {
      "text/html": [
       "<div>\n",
       "<style scoped>\n",
       "    .dataframe tbody tr th:only-of-type {\n",
       "        vertical-align: middle;\n",
       "    }\n",
       "\n",
       "    .dataframe tbody tr th {\n",
       "        vertical-align: top;\n",
       "    }\n",
       "\n",
       "    .dataframe thead th {\n",
       "        text-align: right;\n",
       "    }\n",
       "</style>\n",
       "<table border=\"1\" class=\"dataframe\">\n",
       "  <thead>\n",
       "    <tr style=\"text-align: right;\">\n",
       "      <th></th>\n",
       "      <th>Unnamed: 0</th>\n",
       "      <th>id</th>\n",
       "      <th>timestamp</th>\n",
       "      <th>temperature</th>\n",
       "    </tr>\n",
       "  </thead>\n",
       "  <tbody>\n",
       "    <tr>\n",
       "      <th>0</th>\n",
       "      <td>0</td>\n",
       "      <td>d1ca1ef8-0eac-42fc-af80-97106efc7b13</td>\n",
       "      <td>2022-03-07 15:55:20</td>\n",
       "      <td>2.96</td>\n",
       "    </tr>\n",
       "    <tr>\n",
       "      <th>1</th>\n",
       "      <td>1</td>\n",
       "      <td>4b8a66c4-0f3a-4f16-826f-8cf9397e9d18</td>\n",
       "      <td>2022-03-01 09:18:22</td>\n",
       "      <td>1.88</td>\n",
       "    </tr>\n",
       "    <tr>\n",
       "      <th>2</th>\n",
       "      <td>2</td>\n",
       "      <td>3d47a0c7-1e72-4512-812f-b6b5d8428cf3</td>\n",
       "      <td>2022-03-04 15:12:26</td>\n",
       "      <td>1.78</td>\n",
       "    </tr>\n",
       "    <tr>\n",
       "      <th>3</th>\n",
       "      <td>3</td>\n",
       "      <td>9500357b-ce15-424a-837a-7677b386f471</td>\n",
       "      <td>2022-03-02 12:30:42</td>\n",
       "      <td>2.18</td>\n",
       "    </tr>\n",
       "    <tr>\n",
       "      <th>4</th>\n",
       "      <td>4</td>\n",
       "      <td>c4b61fec-99c2-4c6d-8e5d-4edd8c9632fa</td>\n",
       "      <td>2022-03-05 09:09:33</td>\n",
       "      <td>1.38</td>\n",
       "    </tr>\n",
       "    <tr>\n",
       "      <th>...</th>\n",
       "      <td>...</td>\n",
       "      <td>...</td>\n",
       "      <td>...</td>\n",
       "      <td>...</td>\n",
       "    </tr>\n",
       "    <tr>\n",
       "      <th>23885</th>\n",
       "      <td>23885</td>\n",
       "      <td>17bcff56-9965-4e9f-ad5f-107f0f3be93f</td>\n",
       "      <td>2022-03-01 10:40:43</td>\n",
       "      <td>-1.46</td>\n",
       "    </tr>\n",
       "    <tr>\n",
       "      <th>23886</th>\n",
       "      <td>23886</td>\n",
       "      <td>51d4eb44-04bd-4d6a-b777-0653bc173303</td>\n",
       "      <td>2022-03-05 17:07:49</td>\n",
       "      <td>-19.37</td>\n",
       "    </tr>\n",
       "    <tr>\n",
       "      <th>23887</th>\n",
       "      <td>23887</td>\n",
       "      <td>bbcacfc4-3b59-47ee-b9e1-7dd3bd588748</td>\n",
       "      <td>2022-03-01 16:15:41</td>\n",
       "      <td>-2.89</td>\n",
       "    </tr>\n",
       "    <tr>\n",
       "      <th>23888</th>\n",
       "      <td>23888</td>\n",
       "      <td>5c4d567b-4bcf-4fcd-86b7-e2db5de6e439</td>\n",
       "      <td>2022-03-07 14:44:52</td>\n",
       "      <td>-2.56</td>\n",
       "    </tr>\n",
       "    <tr>\n",
       "      <th>23889</th>\n",
       "      <td>23889</td>\n",
       "      <td>589c28e1-f1f3-4efb-af6d-9f194c4d7d5b</td>\n",
       "      <td>2022-03-01 16:33:41</td>\n",
       "      <td>0.13</td>\n",
       "    </tr>\n",
       "  </tbody>\n",
       "</table>\n",
       "<p>23890 rows × 4 columns</p>\n",
       "</div>"
      ],
      "text/plain": [
       "       Unnamed: 0                                    id            timestamp  \\\n",
       "0               0  d1ca1ef8-0eac-42fc-af80-97106efc7b13  2022-03-07 15:55:20   \n",
       "1               1  4b8a66c4-0f3a-4f16-826f-8cf9397e9d18  2022-03-01 09:18:22   \n",
       "2               2  3d47a0c7-1e72-4512-812f-b6b5d8428cf3  2022-03-04 15:12:26   \n",
       "3               3  9500357b-ce15-424a-837a-7677b386f471  2022-03-02 12:30:42   \n",
       "4               4  c4b61fec-99c2-4c6d-8e5d-4edd8c9632fa  2022-03-05 09:09:33   \n",
       "...           ...                                   ...                  ...   \n",
       "23885       23885  17bcff56-9965-4e9f-ad5f-107f0f3be93f  2022-03-01 10:40:43   \n",
       "23886       23886  51d4eb44-04bd-4d6a-b777-0653bc173303  2022-03-05 17:07:49   \n",
       "23887       23887  bbcacfc4-3b59-47ee-b9e1-7dd3bd588748  2022-03-01 16:15:41   \n",
       "23888       23888  5c4d567b-4bcf-4fcd-86b7-e2db5de6e439  2022-03-07 14:44:52   \n",
       "23889       23889  589c28e1-f1f3-4efb-af6d-9f194c4d7d5b  2022-03-01 16:33:41   \n",
       "\n",
       "       temperature  \n",
       "0             2.96  \n",
       "1             1.88  \n",
       "2             1.78  \n",
       "3             2.18  \n",
       "4             1.38  \n",
       "...            ...  \n",
       "23885        -1.46  \n",
       "23886       -19.37  \n",
       "23887        -2.89  \n",
       "23888        -2.56  \n",
       "23889         0.13  \n",
       "\n",
       "[23890 rows x 4 columns]"
      ]
     },
     "execution_count": 31,
     "metadata": {},
     "output_type": "execute_result"
    }
   ],
   "source": [
    "sensor_storage_temperature_df"
   ]
  },
  {
   "cell_type": "markdown",
   "metadata": {},
   "source": [
    "Details of the"
   ]
  },
  {
   "cell_type": "code",
   "execution_count": 32,
   "metadata": {},
   "outputs": [
    {
     "data": {
      "text/plain": [
       "Unnamed: 0          int64\n",
       "transaction_id     object\n",
       "timestamp          object\n",
       "product_id         object\n",
       "category           object\n",
       "customer_type      object\n",
       "unit_price        float64\n",
       "quantity            int64\n",
       "total             float64\n",
       "payment_type       object\n",
       "dtype: object"
      ]
     },
     "execution_count": 32,
     "metadata": {},
     "output_type": "execute_result"
    }
   ],
   "source": [
    "sales_df.dtypes"
   ]
  },
  {
   "cell_type": "code",
   "execution_count": 33,
   "metadata": {},
   "outputs": [
    {
     "data": {
      "text/plain": [
       "Unnamed: 0               int64\n",
       "id                      object\n",
       "timestamp               object\n",
       "product_id              object\n",
       "estimated_stock_pct    float64\n",
       "dtype: object"
      ]
     },
     "execution_count": 33,
     "metadata": {},
     "output_type": "execute_result"
    }
   ],
   "source": [
    "sensor_stock_level_df.dtypes\n"
   ]
  },
  {
   "cell_type": "code",
   "execution_count": 34,
   "metadata": {},
   "outputs": [
    {
     "data": {
      "text/plain": [
       "Unnamed: 0       int64\n",
       "id              object\n",
       "timestamp       object\n",
       "temperature    float64\n",
       "dtype: object"
      ]
     },
     "execution_count": 34,
     "metadata": {},
     "output_type": "execute_result"
    }
   ],
   "source": [
    "sensor_storage_temperature_df.dtypes"
   ]
  },
  {
   "cell_type": "code",
   "execution_count": 35,
   "metadata": {},
   "outputs": [
    {
     "data": {
      "text/plain": [
       "Unnamed: 0        0\n",
       "transaction_id    0\n",
       "timestamp         0\n",
       "product_id        0\n",
       "category          0\n",
       "customer_type     0\n",
       "unit_price        0\n",
       "quantity          0\n",
       "total             0\n",
       "payment_type      0\n",
       "dtype: int64"
      ]
     },
     "execution_count": 35,
     "metadata": {},
     "output_type": "execute_result"
    }
   ],
   "source": [
    "sales_df.isna().sum()"
   ]
  },
  {
   "cell_type": "code",
   "execution_count": 36,
   "metadata": {},
   "outputs": [
    {
     "data": {
      "text/plain": [
       "Unnamed: 0             0\n",
       "id                     0\n",
       "timestamp              0\n",
       "product_id             0\n",
       "estimated_stock_pct    0\n",
       "dtype: int64"
      ]
     },
     "execution_count": 36,
     "metadata": {},
     "output_type": "execute_result"
    }
   ],
   "source": [
    "sensor_stock_level_df.isna().sum()"
   ]
  },
  {
   "cell_type": "code",
   "execution_count": 37,
   "metadata": {},
   "outputs": [
    {
     "data": {
      "text/plain": [
       "Unnamed: 0     0\n",
       "id             0\n",
       "timestamp      0\n",
       "temperature    0\n",
       "dtype: int64"
      ]
     },
     "execution_count": 37,
     "metadata": {},
     "output_type": "execute_result"
    }
   ],
   "source": [
    "sensor_storage_temperature_df.isna().sum()"
   ]
  },
  {
   "cell_type": "markdown",
   "metadata": {},
   "source": [
    "# converting the datestamp for all the csvs \n"
   ]
  },
  {
   "cell_type": "markdown",
   "metadata": {},
   "source": [
    "# Sales CSV"
   ]
  },
  {
   "cell_type": "code",
   "execution_count": 38,
   "metadata": {},
   "outputs": [],
   "source": [
    "sales_df['timestamp']=pd.to_datetime(sales_df['timestamp'])\n"
   ]
  },
  {
   "cell_type": "code",
   "execution_count": 39,
   "metadata": {},
   "outputs": [
    {
     "data": {
      "text/html": [
       "<div>\n",
       "<style scoped>\n",
       "    .dataframe tbody tr th:only-of-type {\n",
       "        vertical-align: middle;\n",
       "    }\n",
       "\n",
       "    .dataframe tbody tr th {\n",
       "        vertical-align: top;\n",
       "    }\n",
       "\n",
       "    .dataframe thead th {\n",
       "        text-align: right;\n",
       "    }\n",
       "</style>\n",
       "<table border=\"1\" class=\"dataframe\">\n",
       "  <thead>\n",
       "    <tr style=\"text-align: right;\">\n",
       "      <th></th>\n",
       "      <th>Unnamed: 0</th>\n",
       "      <th>transaction_id</th>\n",
       "      <th>timestamp</th>\n",
       "      <th>product_id</th>\n",
       "      <th>category</th>\n",
       "      <th>customer_type</th>\n",
       "      <th>unit_price</th>\n",
       "      <th>quantity</th>\n",
       "      <th>total</th>\n",
       "      <th>payment_type</th>\n",
       "    </tr>\n",
       "  </thead>\n",
       "  <tbody>\n",
       "    <tr>\n",
       "      <th>0</th>\n",
       "      <td>0</td>\n",
       "      <td>a1c82654-c52c-45b3-8ce8-4c2a1efe63ed</td>\n",
       "      <td>2022-03-02 09:51:38</td>\n",
       "      <td>3bc6c1ea-0198-46de-9ffd-514ae3338713</td>\n",
       "      <td>fruit</td>\n",
       "      <td>gold</td>\n",
       "      <td>3.99</td>\n",
       "      <td>2</td>\n",
       "      <td>7.98</td>\n",
       "      <td>e-wallet</td>\n",
       "    </tr>\n",
       "    <tr>\n",
       "      <th>1</th>\n",
       "      <td>1</td>\n",
       "      <td>931ad550-09e8-4da6-beaa-8c9d17be9c60</td>\n",
       "      <td>2022-03-06 10:33:59</td>\n",
       "      <td>ad81b46c-bf38-41cf-9b54-5fe7f5eba93e</td>\n",
       "      <td>fruit</td>\n",
       "      <td>standard</td>\n",
       "      <td>3.99</td>\n",
       "      <td>1</td>\n",
       "      <td>3.99</td>\n",
       "      <td>e-wallet</td>\n",
       "    </tr>\n",
       "    <tr>\n",
       "      <th>2</th>\n",
       "      <td>2</td>\n",
       "      <td>ae133534-6f61-4cd6-b6b8-d1c1d8d90aea</td>\n",
       "      <td>2022-03-04 17:20:21</td>\n",
       "      <td>7c55cbd4-f306-4c04-a030-628cbe7867c1</td>\n",
       "      <td>fruit</td>\n",
       "      <td>premium</td>\n",
       "      <td>0.19</td>\n",
       "      <td>2</td>\n",
       "      <td>0.38</td>\n",
       "      <td>e-wallet</td>\n",
       "    </tr>\n",
       "    <tr>\n",
       "      <th>3</th>\n",
       "      <td>3</td>\n",
       "      <td>157cebd9-aaf0-475d-8a11-7c8e0f5b76e4</td>\n",
       "      <td>2022-03-02 17:23:58</td>\n",
       "      <td>80da8348-1707-403f-8be7-9e6deeccc883</td>\n",
       "      <td>fruit</td>\n",
       "      <td>gold</td>\n",
       "      <td>0.19</td>\n",
       "      <td>4</td>\n",
       "      <td>0.76</td>\n",
       "      <td>e-wallet</td>\n",
       "    </tr>\n",
       "    <tr>\n",
       "      <th>4</th>\n",
       "      <td>4</td>\n",
       "      <td>a81a6cd3-5e0c-44a2-826c-aea43e46c514</td>\n",
       "      <td>2022-03-05 14:32:43</td>\n",
       "      <td>7f5e86e6-f06f-45f6-bf44-27b095c9ad1d</td>\n",
       "      <td>fruit</td>\n",
       "      <td>basic</td>\n",
       "      <td>4.49</td>\n",
       "      <td>2</td>\n",
       "      <td>8.98</td>\n",
       "      <td>debit card</td>\n",
       "    </tr>\n",
       "    <tr>\n",
       "      <th>...</th>\n",
       "      <td>...</td>\n",
       "      <td>...</td>\n",
       "      <td>...</td>\n",
       "      <td>...</td>\n",
       "      <td>...</td>\n",
       "      <td>...</td>\n",
       "      <td>...</td>\n",
       "      <td>...</td>\n",
       "      <td>...</td>\n",
       "      <td>...</td>\n",
       "    </tr>\n",
       "    <tr>\n",
       "      <th>7824</th>\n",
       "      <td>7824</td>\n",
       "      <td>6c19b9fc-f86d-4526-9dfe-d8027a4d13ee</td>\n",
       "      <td>2022-03-03 18:22:09</td>\n",
       "      <td>bc6187a9-d508-482b-9ca6-590d1cc7524f</td>\n",
       "      <td>cleaning products</td>\n",
       "      <td>basic</td>\n",
       "      <td>14.19</td>\n",
       "      <td>2</td>\n",
       "      <td>28.38</td>\n",
       "      <td>e-wallet</td>\n",
       "    </tr>\n",
       "    <tr>\n",
       "      <th>7825</th>\n",
       "      <td>7825</td>\n",
       "      <td>1c69824b-e399-4b79-a5e7-04a3a7db0681</td>\n",
       "      <td>2022-03-04 19:14:46</td>\n",
       "      <td>707e4237-191c-4cc9-85af-383a6c1cb2ab</td>\n",
       "      <td>cleaning products</td>\n",
       "      <td>standard</td>\n",
       "      <td>16.99</td>\n",
       "      <td>1</td>\n",
       "      <td>16.99</td>\n",
       "      <td>credit card</td>\n",
       "    </tr>\n",
       "    <tr>\n",
       "      <th>7826</th>\n",
       "      <td>7826</td>\n",
       "      <td>79aee7d6-1405-4345-9a15-92541e9e1e74</td>\n",
       "      <td>2022-03-03 14:00:09</td>\n",
       "      <td>a9325c1a-2715-41df-b7f4-3078fa5ecd97</td>\n",
       "      <td>cleaning products</td>\n",
       "      <td>basic</td>\n",
       "      <td>14.19</td>\n",
       "      <td>2</td>\n",
       "      <td>28.38</td>\n",
       "      <td>credit card</td>\n",
       "    </tr>\n",
       "    <tr>\n",
       "      <th>7827</th>\n",
       "      <td>7827</td>\n",
       "      <td>e5cc4f88-e5b7-4ad5-bc1b-12a828a14f55</td>\n",
       "      <td>2022-03-04 15:11:38</td>\n",
       "      <td>707e4237-191c-4cc9-85af-383a6c1cb2ab</td>\n",
       "      <td>cleaning products</td>\n",
       "      <td>basic</td>\n",
       "      <td>16.99</td>\n",
       "      <td>4</td>\n",
       "      <td>67.96</td>\n",
       "      <td>cash</td>\n",
       "    </tr>\n",
       "    <tr>\n",
       "      <th>7828</th>\n",
       "      <td>7828</td>\n",
       "      <td>afd70b4f-ee21-402d-8d8f-0d9e13c2bea6</td>\n",
       "      <td>2022-03-06 13:50:36</td>\n",
       "      <td>d6ccd088-11be-4c25-aa1f-ea87c01a04db</td>\n",
       "      <td>cleaning products</td>\n",
       "      <td>non-member</td>\n",
       "      <td>14.99</td>\n",
       "      <td>4</td>\n",
       "      <td>59.96</td>\n",
       "      <td>debit card</td>\n",
       "    </tr>\n",
       "  </tbody>\n",
       "</table>\n",
       "<p>7829 rows × 10 columns</p>\n",
       "</div>"
      ],
      "text/plain": [
       "      Unnamed: 0                        transaction_id           timestamp  \\\n",
       "0              0  a1c82654-c52c-45b3-8ce8-4c2a1efe63ed 2022-03-02 09:51:38   \n",
       "1              1  931ad550-09e8-4da6-beaa-8c9d17be9c60 2022-03-06 10:33:59   \n",
       "2              2  ae133534-6f61-4cd6-b6b8-d1c1d8d90aea 2022-03-04 17:20:21   \n",
       "3              3  157cebd9-aaf0-475d-8a11-7c8e0f5b76e4 2022-03-02 17:23:58   \n",
       "4              4  a81a6cd3-5e0c-44a2-826c-aea43e46c514 2022-03-05 14:32:43   \n",
       "...          ...                                   ...                 ...   \n",
       "7824        7824  6c19b9fc-f86d-4526-9dfe-d8027a4d13ee 2022-03-03 18:22:09   \n",
       "7825        7825  1c69824b-e399-4b79-a5e7-04a3a7db0681 2022-03-04 19:14:46   \n",
       "7826        7826  79aee7d6-1405-4345-9a15-92541e9e1e74 2022-03-03 14:00:09   \n",
       "7827        7827  e5cc4f88-e5b7-4ad5-bc1b-12a828a14f55 2022-03-04 15:11:38   \n",
       "7828        7828  afd70b4f-ee21-402d-8d8f-0d9e13c2bea6 2022-03-06 13:50:36   \n",
       "\n",
       "                                product_id           category customer_type  \\\n",
       "0     3bc6c1ea-0198-46de-9ffd-514ae3338713              fruit          gold   \n",
       "1     ad81b46c-bf38-41cf-9b54-5fe7f5eba93e              fruit      standard   \n",
       "2     7c55cbd4-f306-4c04-a030-628cbe7867c1              fruit       premium   \n",
       "3     80da8348-1707-403f-8be7-9e6deeccc883              fruit          gold   \n",
       "4     7f5e86e6-f06f-45f6-bf44-27b095c9ad1d              fruit         basic   \n",
       "...                                    ...                ...           ...   \n",
       "7824  bc6187a9-d508-482b-9ca6-590d1cc7524f  cleaning products         basic   \n",
       "7825  707e4237-191c-4cc9-85af-383a6c1cb2ab  cleaning products      standard   \n",
       "7826  a9325c1a-2715-41df-b7f4-3078fa5ecd97  cleaning products         basic   \n",
       "7827  707e4237-191c-4cc9-85af-383a6c1cb2ab  cleaning products         basic   \n",
       "7828  d6ccd088-11be-4c25-aa1f-ea87c01a04db  cleaning products    non-member   \n",
       "\n",
       "      unit_price  quantity  total payment_type  \n",
       "0           3.99         2   7.98     e-wallet  \n",
       "1           3.99         1   3.99     e-wallet  \n",
       "2           0.19         2   0.38     e-wallet  \n",
       "3           0.19         4   0.76     e-wallet  \n",
       "4           4.49         2   8.98   debit card  \n",
       "...          ...       ...    ...          ...  \n",
       "7824       14.19         2  28.38     e-wallet  \n",
       "7825       16.99         1  16.99  credit card  \n",
       "7826       14.19         2  28.38  credit card  \n",
       "7827       16.99         4  67.96         cash  \n",
       "7828       14.99         4  59.96   debit card  \n",
       "\n",
       "[7829 rows x 10 columns]"
      ]
     },
     "execution_count": 39,
     "metadata": {},
     "output_type": "execute_result"
    }
   ],
   "source": [
    "sales_df"
   ]
  },
  {
   "cell_type": "code",
   "execution_count": 40,
   "metadata": {},
   "outputs": [
    {
     "data": {
      "text/plain": [
       "0       2022-03-07 12:13:02\n",
       "1       2022-03-07 16:39:46\n",
       "2       2022-03-01 18:17:43\n",
       "3       2022-03-02 14:29:09\n",
       "4       2022-03-02 13:46:18\n",
       "                ...        \n",
       "14995   2022-03-04 10:52:50\n",
       "14996   2022-03-02 12:25:48\n",
       "14997   2022-03-03 17:36:44\n",
       "14998   2022-03-02 19:42:47\n",
       "14999   2022-03-06 17:18:27\n",
       "Name: timestamp, Length: 15000, dtype: datetime64[ns]"
      ]
     },
     "execution_count": 40,
     "metadata": {},
     "output_type": "execute_result"
    }
   ],
   "source": [
    "sensor_stock_level_df=pd.to_datetime(sensor_stock_level_df['timestamp'])\n",
    "sensor_stock_level_df"
   ]
  },
  {
   "cell_type": "code",
   "execution_count": 41,
   "metadata": {},
   "outputs": [],
   "source": [
    "sensor_storage_temperature_df=pd.to_datetime(sensor_storage_temperature_df['timestamp'])"
   ]
  },
  {
   "cell_type": "code",
   "execution_count": 42,
   "metadata": {},
   "outputs": [
    {
     "data": {
      "text/plain": [
       "0       2022-03-07 15:55:20\n",
       "1       2022-03-01 09:18:22\n",
       "2       2022-03-04 15:12:26\n",
       "3       2022-03-02 12:30:42\n",
       "4       2022-03-05 09:09:33\n",
       "                ...        \n",
       "23885   2022-03-01 10:40:43\n",
       "23886   2022-03-05 17:07:49\n",
       "23887   2022-03-01 16:15:41\n",
       "23888   2022-03-07 14:44:52\n",
       "23889   2022-03-01 16:33:41\n",
       "Name: timestamp, Length: 23890, dtype: datetime64[ns]"
      ]
     },
     "execution_count": 42,
     "metadata": {},
     "output_type": "execute_result"
    }
   ],
   "source": [
    "sensor_storage_temperature_df"
   ]
  },
  {
   "cell_type": "markdown",
   "metadata": {},
   "source": [
    "# changing the dummies platiform to onehotencoder"
   ]
  },
  {
   "cell_type": "markdown",
   "metadata": {},
   "source": [
    "# Sales csv to be checked first what all can be done to the charachters in the form"
   ]
  },
  {
   "cell_type": "code",
   "execution_count": 43,
   "metadata": {},
   "outputs": [],
   "source": [
    "sales_category = sales_df['category'].value_counts()"
   ]
  },
  {
   "cell_type": "code",
   "execution_count": 44,
   "metadata": {},
   "outputs": [
    {
     "data": {
      "text/plain": [
       "category\n",
       "fruit                    998\n",
       "vegetables               846\n",
       "packaged foods           507\n",
       "baked goods              443\n",
       "canned foods             431\n",
       "refrigerated items       425\n",
       "kitchen                  382\n",
       "meat                     382\n",
       "dairy                    375\n",
       "beverages                301\n",
       "cheese                   293\n",
       "cleaning products        292\n",
       "baking                   264\n",
       "snacks                   263\n",
       "frozen                   263\n",
       "seafood                  253\n",
       "medicine                 243\n",
       "baby products            224\n",
       "condiments and sauces    181\n",
       "personal care            177\n",
       "pets                     161\n",
       "spices and herbs         125\n",
       "Name: count, dtype: int64"
      ]
     },
     "execution_count": 44,
     "metadata": {},
     "output_type": "execute_result"
    }
   ],
   "source": [
    "sales_category"
   ]
  },
  {
   "cell_type": "code",
   "execution_count": 45,
   "metadata": {},
   "outputs": [
    {
     "name": "stderr",
     "output_type": "stream",
     "text": [
      "C:\\Users\\KIIT\\AppData\\Local\\Temp\\ipykernel_4440\\1137042551.py:5: MatplotlibDeprecationWarning: The get_cmap function was deprecated in Matplotlib 3.7 and will be removed two minor releases later. Use ``matplotlib.colormaps[name]`` or ``matplotlib.colormaps.get_cmap(obj)`` instead.\n",
      "  cmap= cm.get_cmap('viridis')\n"
     ]
    },
    {
     "data": {
      "text/plain": [
       "([<matplotlib.patches.Wedge at 0x20dcedf63c0>,\n",
       "  <matplotlib.patches.Wedge at 0x20dceded910>,\n",
       "  <matplotlib.patches.Wedge at 0x20dcedf6b70>,\n",
       "  <matplotlib.patches.Wedge at 0x20dcedf7080>,\n",
       "  <matplotlib.patches.Wedge at 0x20dcedf74d0>,\n",
       "  <matplotlib.patches.Wedge at 0x20dcedf7980>,\n",
       "  <matplotlib.patches.Wedge at 0x20dcedf7e30>,\n",
       "  <matplotlib.patches.Wedge at 0x20dcedf82c0>,\n",
       "  <matplotlib.patches.Wedge at 0x20dcedf8b00>,\n",
       "  <matplotlib.patches.Wedge at 0x20dcedf8890>,\n",
       "  <matplotlib.patches.Wedge at 0x20dcedf9070>,\n",
       "  <matplotlib.patches.Wedge at 0x20dcedf9640>,\n",
       "  <matplotlib.patches.Wedge at 0x20dcedf9b20>,\n",
       "  <matplotlib.patches.Wedge at 0x20dcedf9f10>,\n",
       "  <matplotlib.patches.Wedge at 0x20dcedfa420>,\n",
       "  <matplotlib.patches.Wedge at 0x20dcedfa840>,\n",
       "  <matplotlib.patches.Wedge at 0x20dcedfad80>,\n",
       "  <matplotlib.patches.Wedge at 0x20dcedfaf30>,\n",
       "  <matplotlib.patches.Wedge at 0x20dcedfb740>,\n",
       "  <matplotlib.patches.Wedge at 0x20dcedfbd10>,\n",
       "  <matplotlib.patches.Wedge at 0x20dcedd4380>,\n",
       "  <matplotlib.patches.Wedge at 0x20dccb530b0>],\n",
       " [Text(1.012964022298048, 0.42884016781285716, 'fruit'),\n",
       "  Text(0.4589267186207787, 0.9996930863699943, 'vegetables'),\n",
       "  Text(-0.12355254519107774, 1.0930392346923357, 'packaged foods'),\n",
       "  Text(-0.5213443762178355, 0.9686072689103857, 'baked goods'),\n",
       "  Text(-0.8223929166019057, 0.730527132092307, 'canned foods'),\n",
       "  Text(-1.0203774069929696, 0.4108892153589624, 'refrigerated items'),\n",
       "  Text(-1.0980868082947883, 0.06484875826848907, 'kitchen'),\n",
       "  Text(-1.0664571011239101, -0.26957234921702594, 'meat'),\n",
       "  Text(-0.9369977736876139, -0.5762249318664154, 'dairy'),\n",
       "  Text(-0.7483363700447708, -0.806221233451598, 'beverages'),\n",
       "  Text(-0.5368237089896437, -0.9601147355741408, 'cheese'),\n",
       "  Text(-0.29878097076181503, -1.0586453284791029, 'cleaning products'),\n",
       "  Text(-0.05713610270918267, -1.0985151185883633, 'baking'),\n",
       "  Text(0.17471500376583632, -1.0860362182998797, 'snacks'),\n",
       "  Text(0.3983704073577146, -1.0253297121129616, 'frozen'),\n",
       "  Text(0.6006507191393948, -0.9215306362771277, 'seafood'),\n",
       "  Text(0.7709993050592517, -0.7845763644146763, 'medicine'),\n",
       "  Text(0.9036686765413031, -0.6272024577742741, 'baby products'),\n",
       "  Text(0.9932440951538841, -0.4727220826679691, 'condiments and sauces'),\n",
       "  Text(1.0506892321072059, -0.325656471659892, 'personal care'),\n",
       "  Text(1.085073811320416, -0.18059574742110304, 'pets'),\n",
       "  Text(1.098616500422789, -0.05515237981070621, 'spices and herbs')])"
      ]
     },
     "execution_count": 45,
     "metadata": {},
     "output_type": "execute_result"
    },
    {
     "data": {
      "image/png": "[encoded data removed]",
      "text/plain": [
       "<Figure size 640x480 with 1 Axes>"
      ]
     },
     "metadata": {},
     "output_type": "display_data"
    }
   ],
   "source": [
    "import matplotlib.pyplot as plt \n",
    "import matplotlib.cm as cm\n",
    "import seaborn as sns\n",
    "\n",
    "cmap= cm.get_cmap('viridis')\n",
    "\n",
    "\n",
    "plt.pie(x=sales_category,labels = sales_category.index,colors=cmap(sales_category/max(sales_category)),)"
   ]
  },
  {
   "cell_type": "code",
   "execution_count": null,
   "metadata": {},
   "outputs": [],
   "source": []
  },
  {
   "cell_type": "markdown",
   "metadata": {},
   "source": [
    "hourly based prediction of the model shluld be done\n"
   ]
  },
  {
   "cell_type": "code",
   "execution_count": 49,
   "metadata": {},
   "outputs": [],
   "source": [
    "from os import X_OK\n",
    "from sklearn.model_selection import train_test_split\n",
    "X=sales_df.drop(['total','timestamp','product_id'],axis= 1)\n",
    "y=sales_df['total']\n",
    "\n",
    "X_train, X_test, y_train, y_test = train_test_split(X,y,test_size=0.2,random_state=42)"
   ]
  },
  {
   "cell_type": "code",
   "execution_count": null,
   "metadata": {},
   "outputs": [],
   "source": []
  },
  {
   "cell_type": "code",
   "execution_count": 1,
   "metadata": {},
   "outputs": [],
   "source": []
  },
  {
   "cell_type": "code",
   "execution_count": null,
   "metadata": {},
   "outputs": [],
   "source": []
  },
  {
   "cell_type": "code",
   "execution_count": null,
   "metadata": {},
   "outputs": [],
   "source": []
  },
  {
   "cell_type": "code",
   "execution_count": null,
   "metadata": {},
   "outputs": [],
   "source": []
  },
  {
   "cell_type": "code",
   "execution_count": null,
   "metadata": {},
   "outputs": [],
   "source": []
  },
  {
   "cell_type": "code",
   "execution_count": null,
   "metadata": {},
   "outputs": [],
   "source": []
  },
  {
   "cell_type": "code",
   "execution_count": null,
   "metadata": {},
   "outputs": [],
   "source": []
  },
  {
   "cell_type": "code",
   "execution_count": null,
   "metadata": {},
   "outputs": [],
   "source": []
  },
  {
   "cell_type": "code",
   "execution_count": null,
   "metadata": {},
   "outputs": [],
   "source": []
  },
  {
   "cell_type": "code",
   "execution_count": null,
   "metadata": {},
   "outputs": [],
   "source": []
  },
  {
   "cell_type": "code",
   "execution_count": null,
   "metadata": {},
   "outputs": [],
   "source": []
  },
  {
   "cell_type": "code",
   "execution_count": null,
   "metadata": {},
   "outputs": [],
   "source": []
  },
  {
   "cell_type": "code",
   "execution_count": null,
   "metadata": {},
   "outputs": [],
   "source": []
  },
  {
   "cell_type": "code",
   "execution_count": null,
   "metadata": {},
   "outputs": [],
   "source": []
  },
  {
   "cell_type": "code",
   "execution_count": null,
   "metadata": {},
   "outputs": [],
   "source": []
  },
  {
   "cell_type": "code",
   "execution_count": null,
   "metadata": {},
   "outputs": [],
   "source": []
  },
  {
   "cell_type": "code",
   "execution_count": null,
   "metadata": {},
   "outputs": [],
   "source": []
  },
  {
   "cell_type": "code",
   "execution_count": null,
   "metadata": {},
   "outputs": [],
   "source": []
  }
 ],
 "metadata": {
  "kernelspec": {
   "display_name": "Python 3",
   "language": "python",
   "name": "python3"
  },
  "language_info": {
   "codemirror_mode": {
    "name": "ipython",
    "version": 3
   },
   "file_extension": ".py",
   "mimetype": "text/x-python",
   "name": "python",
   "nbconvert_exporter": "python",
   "pygments_lexer": "ipython3",
   "version": "3.12.4"
  }
 },
 "nbformat": 4,
 "nbformat_minor": 2
}
